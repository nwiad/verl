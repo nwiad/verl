{
 "cells": [
  {
   "cell_type": "code",
   "execution_count": 11,
   "metadata": {},
   "outputs": [
    {
     "name": "stdout",
     "output_type": "stream",
     "text": [
      "40315\n"
     ]
    }
   ],
   "source": [
    "import json\n",
    "path = '/mnt/bn/daiweinan-fuse/datasets/DeepScaleR-Preview-Dataset/deepscaler.json'\n",
    "data = [line for line in json.load(open(path))]\n",
    "print(len(data))\n"
   ]
  },
  {
   "cell_type": "code",
   "execution_count": 27,
   "metadata": {},
   "outputs": [
    {
     "name": "stdout",
     "output_type": "stream",
     "text": [
      "dict_keys(['problem', 'answer', 'solution'])\n",
      "26\n"
     ]
    }
   ],
   "source": [
    "import random\n",
    "idx = random.randint(0, len(data))\n",
    "print(data[1].keys())\n",
    "print(data[1]['answer'])"
   ]
  }
 ],
 "metadata": {
  "fileId": "f2a714cc-0e3e-4eb1-ba79-1f5ba0e92cfe",
  "filePath": "/mnt/bn/daiweinan-fuse/workspace/dwn-verl/run_deepscaler/check_deepscaler.ipynb",
  "kernelspec": {
   "display_name": "Python 3",
   "language": "python",
   "name": "python3"
  },
  "language_info": {
   "codemirror_mode": {
    "name": "ipython",
    "version": 3
   },
   "file_extension": ".py",
   "mimetype": "text/x-python",
   "name": "python",
   "nbconvert_exporter": "python",
   "pygments_lexer": "ipython3",
   "version": "3.11.2"
  }
 },
 "nbformat": 4,
 "nbformat_minor": 2
}

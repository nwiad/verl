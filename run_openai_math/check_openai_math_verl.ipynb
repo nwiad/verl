{
 "cells": [
  {
   "cell_type": "code",
   "execution_count": 13,
   "metadata": {},
   "outputs": [],
   "source": [
    "import pandas as pd\n",
    "import json\n",
    "\n",
    "# path = \"/mnt/bn/daiweinan-fuse/workspace/dwn-verl/run_openai_math/openai_math_verl/test.parquet\"\n",
    "path = \"/mnt/bn/daiweinan-fuse/workspace/dwn-verl/run_openai_math/openai_math_verl/train.parquet\"\n",
    "df = pd.read_parquet(path)"
   ]
  },
  {
   "cell_type": "code",
   "execution_count": 15,
   "metadata": {},
   "outputs": [
    {
     "name": "stdout",
     "output_type": "stream",
     "text": [
      "12000\n",
      "solution        Since we know that the quotient when we divide...\n",
      "subject                                                   Algebra\n",
      "level                                                           5\n",
      "unique_id                                 train/algebra/1629.json\n",
      "data_source                                           openai/math\n",
      "prompt          [{'content': 'Solve the following math problem...\n",
      "ability                                                      math\n",
      "reward_model               {'ground_truth': '2', 'style': 'rule'}\n",
      "extra_info                        {'index': 59, 'split': 'train'}\n",
      "Name: 59, dtype: object\n",
      "Solve the following math problem step by step. The last line of your response should be of the form Answer: $ANSWER (without quotes) where $ANSWER is the answer to the problem.\n",
      "\n",
      "Let $x$ be a positive integer, and define the integers $n=x^2+2x+17$ and $d=2x+5$. When dividing $n$ by $d$, the quotient is $x$, and the remainder is $7$. Find $x$.\n",
      "\n",
      "Remember to put your answer on its own line after \"Answer:\", and you do not need to use a \\boxed command.\n",
      "ok\n"
     ]
    }
   ],
   "source": [
    "print(len(df))\n",
    "print(df.iloc[59])\n",
    "print(df.iloc[59]['prompt'][0]['content'])\n",
    "for i in range(len(df)):\n",
    "    sample = df.iloc[i].to_dict()\n",
    "    ans = sample['reward_model']['ground_truth']\n",
    "    assert type(ans) == str\n",
    "print('ok')"
   ]
  }
 ],
 "metadata": {
  "fileId": "1c8ae1a3-4bda-4337-b30a-a7235771a799",
  "filePath": "/mnt/bn/daiweinan-fuse/workspace/dwn-verl/run_math/check_math_ppo.ipynb",
  "kernelspec": {
   "display_name": "Python 3",
   "language": "python",
   "name": "python3"
  },
  "language_info": {
   "codemirror_mode": {
    "name": "ipython",
    "version": 3
   },
   "file_extension": ".py",
   "mimetype": "text/x-python",
   "name": "python",
   "nbconvert_exporter": "python",
   "pygments_lexer": "ipython3",
   "version": "3.11.2"
  }
 },
 "nbformat": 4,
 "nbformat_minor": 2
}

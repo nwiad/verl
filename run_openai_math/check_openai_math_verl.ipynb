{
 "cells": [
  {
   "cell_type": "code",
   "execution_count": 1,
   "metadata": {},
   "outputs": [],
   "source": [
    "import pandas as pd\n",
    "import json\n",
    "\n",
    "# path = \"/mnt/bn/daiweinan-fuse/workspace/dwn-verl/run_openai_math/openai_math_verl/test.parquet\"\n",
    "path = \"/mnt/bn/daiweinan-fuse/workspace/dwn-verl/run_openai_math/openai_math_verl/test.parquet\"\n",
    "df = pd.read_parquet(path)"
   ]
  },
  {
   "cell_type": "code",
   "execution_count": 5,
   "metadata": {},
   "outputs": [
    {
     "name": "stdout",
     "output_type": "stream",
     "text": [
      "500\n",
      "solution        Among the $50-6=44$ students that participate ...\n",
      "subject                                                Prealgebra\n",
      "level                                                           2\n",
      "unique_id                               test/prealgebra/1247.json\n",
      "data_source                                        lighteval/MATH\n",
      "prompt          [{'content': 'Solve the following math problem...\n",
      "ability                                                      math\n",
      "reward_model               {'ground_truth': '5', 'style': 'rule'}\n",
      "extra_info                         {'index': 59, 'split': 'test'}\n",
      "Name: 59, dtype: object\n",
      "ok\n"
     ]
    }
   ],
   "source": [
    "print(len(df))\n",
    "print(df.iloc[59])\n",
    "for i in range(len(df)):\n",
    "    sample = df.iloc[i].to_dict()\n",
    "    ans = sample['reward_model']['ground_truth']\n",
    "    assert type(ans) == str\n",
    "print('ok')"
   ]
  }
 ],
 "metadata": {
  "fileId": "1c8ae1a3-4bda-4337-b30a-a7235771a799",
  "filePath": "/mnt/bn/daiweinan-fuse/workspace/dwn-verl/run_math/check_math_ppo.ipynb",
  "kernelspec": {
   "display_name": "Python 3",
   "language": "python",
   "name": "python3"
  },
  "language_info": {
   "codemirror_mode": {
    "name": "ipython",
    "version": 3
   },
   "file_extension": ".py",
   "mimetype": "text/x-python",
   "name": "python",
   "nbconvert_exporter": "python",
   "pygments_lexer": "ipython3",
   "version": "3.11.2"
  }
 },
 "nbformat": 4,
 "nbformat_minor": 2
}

{
 "cells": [
  {
   "cell_type": "code",
   "execution_count": 23,
   "metadata": {},
   "outputs": [],
   "source": [
    "import pandas as pd\n",
    "import json\n",
    "\n",
    "# path = \"/mnt/bn/daiweinan-fuse/workspace/dwn-verl/run_math/math_ppo/test.parquet\"\n",
    "path = \"/mnt/bn/daiweinan-fuse/workspace/dwn-verl/run_math/math_ppo/train.parquet\"\n",
    "df = pd.read_parquet(path)"
   ]
  },
  {
   "cell_type": "code",
   "execution_count": 24,
   "metadata": {},
   "outputs": [
    {
     "name": "stdout",
     "output_type": "stream",
     "text": [
      "12000\n",
      "solution        Let $A = (3,-5,7),$ the center of the first sp...\n",
      "subject                                               Precalculus\n",
      "level                                                           5\n",
      "unique_id                               test/precalculus/396.json\n",
      "data_source                                        lighteval/MATH\n",
      "prompt          [{'content': 'Solve the following math problem...\n",
      "ability                                                      math\n",
      "reward_model    {'ground_truth': '\\frac{2 \\sqrt{149}}{3}', 'st...\n",
      "extra_info                         {'index': 5, 'split': 'train'}\n",
      "Name: 5, dtype: object\n",
      "ok\n"
     ]
    }
   ],
   "source": [
    "print(len(df))\n",
    "print(df.iloc[5])\n",
    "for i in range(len(df)):\n",
    "    sample = df.iloc[i].to_dict()\n",
    "    ans = sample['reward_model']['ground_truth']\n",
    "    assert type(ans) == str\n",
    "print('ok')"
   ]
  }
 ],
 "metadata": {
  "fileId": "1c8ae1a3-4bda-4337-b30a-a7235771a799",
  "filePath": "/mnt/bn/daiweinan-fuse/workspace/dwn-verl/run_math/check_math_ppo.ipynb",
  "kernelspec": {
   "display_name": "Python 3",
   "language": "python",
   "name": "python3"
  },
  "language_info": {
   "codemirror_mode": {
    "name": "ipython",
    "version": 3
   },
   "file_extension": ".py",
   "mimetype": "text/x-python",
   "name": "python",
   "nbconvert_exporter": "python",
   "pygments_lexer": "ipython3",
   "version": "3.11.2"
  }
 },
 "nbformat": 4,
 "nbformat_minor": 2
}

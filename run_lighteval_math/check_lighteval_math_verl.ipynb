{
 "cells": [
  {
   "cell_type": "code",
   "execution_count": 10,
   "metadata": {},
   "outputs": [],
   "source": [
    "import pandas as pd\n",
    "import json\n",
    "\n",
    "# path = \"/mnt/bn/daiweinan-fuse/workspace/dwn-verl/run_lighteval_math/lighteval_math_verl/test.parquet\"\n",
    "path = \"/mnt/bn/daiweinan-fuse/workspace/dwn-verl/run_lighteval_math/lighteval_math_verl/train.parquet\"\n",
    "df = pd.read_parquet(path)"
   ]
  },
  {
   "cell_type": "code",
   "execution_count": 11,
   "metadata": {},
   "outputs": [
    {
     "name": "stdout",
     "output_type": "stream",
     "text": [
      "7500\n",
      "level                                                     Level 4\n",
      "type                                                      Algebra\n",
      "solution        Completing the square, we get $(x - 3)^2 + (y ...\n",
      "data_source                                        lighteval/MATH\n",
      "prompt          [{'content': 'Find the center of the circle wi...\n",
      "ability                                                      math\n",
      "reward_model         {'ground_truth': '(3, -1)', 'style': 'rule'}\n",
      "extra_info                         {'index': 5, 'split': 'train'}\n",
      "Name: 5, dtype: object\n",
      "Find the center of the circle with equation $x^2 - 6x + y^2 + 2y = 9$. Let's think step by step and output the final answer in a boxed format.\n",
      "ok\n"
     ]
    }
   ],
   "source": [
    "print(len(df))\n",
    "print(df.iloc[5])\n",
    "print(df.iloc[5]['prompt'][0]['content'])\n",
    "for i in range(len(df)):\n",
    "    sample = df.iloc[i].to_dict()\n",
    "    ans = sample['reward_model']['ground_truth']\n",
    "    assert type(ans) == str\n",
    "print('ok')"
   ]
  }
 ],
 "metadata": {
  "fileId": "1c8ae1a3-4bda-4337-b30a-a7235771a799",
  "filePath": "/mnt/bn/daiweinan-fuse/workspace/dwn-verl/run_math/check_math_ppo.ipynb",
  "kernelspec": {
   "display_name": "Python 3",
   "language": "python",
   "name": "python3"
  },
  "language_info": {
   "codemirror_mode": {
    "name": "ipython",
    "version": 3
   },
   "file_extension": ".py",
   "mimetype": "text/x-python",
   "name": "python",
   "nbconvert_exporter": "python",
   "pygments_lexer": "ipython3",
   "version": "3.11.2"
  }
 },
 "nbformat": 4,
 "nbformat_minor": 2
}

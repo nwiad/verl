{
 "cells": [
  {
   "cell_type": "code",
   "execution_count": 1,
   "metadata": {},
   "outputs": [],
   "source": [
    "import pandas as pd\n",
    "path = \"/mnt/bn/daiweinan-fuse/workspace/dwn-verl/run_gsm8k_example/train.parquet\"\n",
    "df = pd.read_parquet(path)"
   ]
  },
  {
   "cell_type": "code",
   "execution_count": 2,
   "metadata": {},
   "outputs": [
    {
     "name": "stdout",
     "output_type": "stream",
     "text": [
      "       data_source                                             prompt ability  \\\n",
      "0     openai/gsm8k  [{'content': 'Natalia sold clips to 48 of her ...    math   \n",
      "1     openai/gsm8k  [{'content': 'Weng earns $12 an hour for babys...    math   \n",
      "2     openai/gsm8k  [{'content': 'Betty is saving money for a new ...    math   \n",
      "3     openai/gsm8k  [{'content': 'Julie is reading a 120-page book...    math   \n",
      "4     openai/gsm8k  [{'content': 'James writes a 3-page letter to ...    math   \n",
      "...            ...                                                ...     ...   \n",
      "7468  openai/gsm8k  [{'content': 'Very early this morning, Elise l...    math   \n",
      "7469  openai/gsm8k  [{'content': 'Josh is saving up for a box of c...    math   \n",
      "7470  openai/gsm8k  [{'content': 'Colin can skip at six times the ...    math   \n",
      "7471  openai/gsm8k  [{'content': 'Janet, a third grade teacher, is...    math   \n",
      "7472  openai/gsm8k  [{'content': 'At 30, Anika is 4/3 the age of M...    math   \n",
      "\n",
      "                                  reward_model  \\\n",
      "0      {'ground_truth': '72', 'style': 'rule'}   \n",
      "1      {'ground_truth': '10', 'style': 'rule'}   \n",
      "2       {'ground_truth': '5', 'style': 'rule'}   \n",
      "3      {'ground_truth': '42', 'style': 'rule'}   \n",
      "4     {'ground_truth': '624', 'style': 'rule'}   \n",
      "...                                        ...   \n",
      "7468    {'ground_truth': '5', 'style': 'rule'}   \n",
      "7469    {'ground_truth': '3', 'style': 'rule'}   \n",
      "7470    {'ground_truth': '4', 'style': 'rule'}   \n",
      "7471  {'ground_truth': '308', 'style': 'rule'}   \n",
      "7472   {'ground_truth': '50', 'style': 'rule'}   \n",
      "\n",
      "                             extra_info  \n",
      "0        {'index': 0, 'split': 'train'}  \n",
      "1        {'index': 1, 'split': 'train'}  \n",
      "2        {'index': 2, 'split': 'train'}  \n",
      "3        {'index': 3, 'split': 'train'}  \n",
      "4        {'index': 4, 'split': 'train'}  \n",
      "...                                 ...  \n",
      "7468  {'index': 7468, 'split': 'train'}  \n",
      "7469  {'index': 7469, 'split': 'train'}  \n",
      "7470  {'index': 7470, 'split': 'train'}  \n",
      "7471  {'index': 7471, 'split': 'train'}  \n",
      "7472  {'index': 7472, 'split': 'train'}  \n",
      "\n",
      "[7473 rows x 5 columns]\n"
     ]
    }
   ],
   "source": [
    "print(df)"
   ]
  },
  {
   "cell_type": "code",
   "execution_count": 6,
   "metadata": {},
   "outputs": [
    {
     "name": "stdout",
     "output_type": "stream",
     "text": [
      "data_source                                          openai/gsm8k\n",
      "prompt          [{'content': 'Natalia sold clips to 48 of her ...\n",
      "ability                                                      math\n",
      "reward_model              {'ground_truth': '72', 'style': 'rule'}\n",
      "extra_info                         {'index': 0, 'split': 'train'}\n",
      "Name: 0, dtype: object\n",
      "Natalia sold clips to 48 of her friends in April, and then she sold half as many clips in May. How many clips did Natalia sell altogether in April and May? Let's think step by step and output the final answer after \"####\".\n",
      "72\n"
     ]
    }
   ],
   "source": [
    "sample = df.iloc[0]\n",
    "print(sample)\n",
    "print(sample['prompt'][0]['content'])\n",
    "print(sample['reward_model']['ground_truth'])"
   ]
  }
 ],
 "metadata": {
  "fileId": "e72cf87e-bb4b-4098-a7c4-942c36571ec3",
  "filePath": "/mnt/bn/daiweinan-fuse/workspace/dwn-verl/run_gsm8k_example/check_gsm8k_ppo.ipynb",
  "kernelspec": {
   "display_name": "Python 3",
   "language": "python",
   "name": "python3"
  },
  "language_info": {
   "codemirror_mode": {
    "name": "ipython",
    "version": 3
   },
   "file_extension": ".py",
   "mimetype": "text/x-python",
   "name": "python",
   "nbconvert_exporter": "python",
   "pygments_lexer": "ipython3",
   "version": "3.11.2"
  }
 },
 "nbformat": 4,
 "nbformat_minor": 2
}
